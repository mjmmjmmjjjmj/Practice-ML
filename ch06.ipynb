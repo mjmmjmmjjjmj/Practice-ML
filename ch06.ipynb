{
 "cells": [
  {
   "cell_type": "markdown",
   "metadata": {},
   "source": [
    "## 팔머 펭귄\n",
    "> x를 주면 펭귄을 분류하는 문제\n",
    "\n",
    "* Iter1. \n",
    "    - SVC같은 선형 분류 모델 하나 성정\n",
    "    - 그리드 서치\n",
    "    - 파이프 라인"
   ]
  },
  {
   "cell_type": "code",
   "execution_count": 1,
   "metadata": {},
   "outputs": [],
   "source": [
    "import numpy as np\n",
    "import pandas as pd\n"
   ]
  },
  {
   "cell_type": "code",
   "execution_count": 2,
   "metadata": {},
   "outputs": [
    {
     "name": "stdout",
     "output_type": "stream",
     "text": [
      "<class 'pandas.core.frame.DataFrame'>\n",
      "RangeIndex: 344 entries, 0 to 343\n",
      "Data columns (total 7 columns):\n",
      " #   Column             Non-Null Count  Dtype  \n",
      "---  ------             --------------  -----  \n",
      " 0   species            344 non-null    object \n",
      " 1   island             344 non-null    object \n",
      " 2   culmen_length_mm   342 non-null    float64\n",
      " 3   culmen_depth_mm    342 non-null    float64\n",
      " 4   flipper_length_mm  342 non-null    float64\n",
      " 5   body_mass_g        342 non-null    float64\n",
      " 6   sex                334 non-null    object \n",
      "dtypes: float64(4), object(3)\n",
      "memory usage: 18.9+ KB\n"
     ]
    },
    {
     "data": {
      "text/plain": [
       "(None,\n",
       "   species     island  culmen_length_mm  culmen_depth_mm  flipper_length_mm  \\\n",
       " 0  Adelie  Torgersen              39.1             18.7              181.0   \n",
       " 1  Adelie  Torgersen              39.5             17.4              186.0   \n",
       " 2  Adelie  Torgersen              40.3             18.0              195.0   \n",
       " 3  Adelie  Torgersen               NaN              NaN                NaN   \n",
       " 4  Adelie  Torgersen              36.7             19.3              193.0   \n",
       " \n",
       "    body_mass_g     sex  \n",
       " 0       3750.0    MALE  \n",
       " 1       3800.0  FEMALE  \n",
       " 2       3250.0  FEMALE  \n",
       " 3          NaN     NaN  \n",
       " 4       3450.0  FEMALE  ,\n",
       "        species     island  culmen_length_mm  culmen_depth_mm  \\\n",
       " 45      Adelie      Dream              39.6             18.8   \n",
       " 149     Adelie      Dream              37.8             18.1   \n",
       " 179  Chinstrap      Dream              49.5             19.0   \n",
       " 264     Gentoo     Biscoe              50.5             15.9   \n",
       " 70      Adelie  Torgersen              33.5             19.0   \n",
       " 35      Adelie      Dream              39.2             21.1   \n",
       " 322     Gentoo     Biscoe              47.2             15.5   \n",
       " 301     Gentoo     Biscoe              52.5             15.6   \n",
       " 278     Gentoo     Biscoe              43.2             14.5   \n",
       " 185  Chinstrap      Dream              51.0             18.8   \n",
       " 177  Chinstrap      Dream              52.0             19.0   \n",
       " 5       Adelie  Torgersen              39.3             20.6   \n",
       " 283     Gentoo     Biscoe              54.3             15.7   \n",
       " 166  Chinstrap      Dream              45.9             17.1   \n",
       " 330     Gentoo     Biscoe              50.5             15.2   \n",
       " \n",
       "      flipper_length_mm  body_mass_g     sex  \n",
       " 45               190.0       4600.0    MALE  \n",
       " 149              193.0       3750.0    MALE  \n",
       " 179              200.0       3800.0    MALE  \n",
       " 264              222.0       5550.0    MALE  \n",
       " 70               190.0       3600.0  FEMALE  \n",
       " 35               196.0       4150.0    MALE  \n",
       " 322              215.0       4975.0  FEMALE  \n",
       " 301              221.0       5450.0    MALE  \n",
       " 278              208.0       4450.0  FEMALE  \n",
       " 185              203.0       4100.0    MALE  \n",
       " 177              197.0       4150.0    MALE  \n",
       " 5                190.0       3650.0    MALE  \n",
       " 283              231.0       5650.0    MALE  \n",
       " 166              190.0       3575.0  FEMALE  \n",
       " 330              216.0       5000.0  FEMALE  )"
      ]
     },
     "execution_count": 2,
     "metadata": {},
     "output_type": "execute_result"
    }
   ],
   "source": [
    "df = pd.read_csv(\"data/penguins_size.csv\")\n",
    "df.info(), df.head(), df.sample(15)"
   ]
  },
  {
   "cell_type": "code",
   "execution_count": 3,
   "metadata": {},
   "outputs": [
    {
     "data": {
      "text/plain": [
       "species               0\n",
       "island                0\n",
       "culmen_length_mm      2\n",
       "culmen_depth_mm       2\n",
       "flipper_length_mm     2\n",
       "body_mass_g           2\n",
       "sex                  10\n",
       "dtype: int64"
      ]
     },
     "execution_count": 3,
     "metadata": {},
     "output_type": "execute_result"
    }
   ],
   "source": [
    "df['species'].unique()\n",
    "df['island'].unique()\n",
    "df['sex'].unique()\n",
    "df.isnull().sum()"
   ]
  },
  {
   "cell_type": "code",
   "execution_count": 4,
   "metadata": {},
   "outputs": [],
   "source": [
    "penguins = df.dropna()\n",
    "penguins.reset_index(drop=True, inplace=True)"
   ]
  },
  {
   "cell_type": "code",
   "execution_count": 5,
   "metadata": {},
   "outputs": [
    {
     "data": {
      "text/html": [
       "<div>\n",
       "<style scoped>\n",
       "    .dataframe tbody tr th:only-of-type {\n",
       "        vertical-align: middle;\n",
       "    }\n",
       "\n",
       "    .dataframe tbody tr th {\n",
       "        vertical-align: top;\n",
       "    }\n",
       "\n",
       "    .dataframe thead th {\n",
       "        text-align: right;\n",
       "    }\n",
       "</style>\n",
       "<table border=\"1\" class=\"dataframe\">\n",
       "  <thead>\n",
       "    <tr style=\"text-align: right;\">\n",
       "      <th></th>\n",
       "      <th>species</th>\n",
       "      <th>island</th>\n",
       "      <th>culmen_length_mm</th>\n",
       "      <th>culmen_depth_mm</th>\n",
       "      <th>flipper_length_mm</th>\n",
       "      <th>body_mass_g</th>\n",
       "      <th>sex</th>\n",
       "    </tr>\n",
       "  </thead>\n",
       "  <tbody>\n",
       "    <tr>\n",
       "      <th>327</th>\n",
       "      <td>Gentoo</td>\n",
       "      <td>Biscoe</td>\n",
       "      <td>44.5</td>\n",
       "      <td>15.7</td>\n",
       "      <td>217.0</td>\n",
       "      <td>4875.0</td>\n",
       "      <td>.</td>\n",
       "    </tr>\n",
       "  </tbody>\n",
       "</table>\n",
       "</div>"
      ],
      "text/plain": [
       "    species  island  culmen_length_mm  culmen_depth_mm  flipper_length_mm  \\\n",
       "327  Gentoo  Biscoe              44.5             15.7              217.0   \n",
       "\n",
       "     body_mass_g sex  \n",
       "327       4875.0   .  "
      ]
     },
     "execution_count": 5,
     "metadata": {},
     "output_type": "execute_result"
    }
   ],
   "source": [
    "penguins[penguins['sex']=='.']"
   ]
  },
  {
   "cell_type": "code",
   "execution_count": 6,
   "metadata": {},
   "outputs": [
    {
     "name": "stderr",
     "output_type": "stream",
     "text": [
      "C:\\Users\\uear\\AppData\\Local\\Temp\\ipykernel_16116\\3334425287.py:1: SettingWithCopyWarning: \n",
      "A value is trying to be set on a copy of a slice from a DataFrame\n",
      "\n",
      "See the caveats in the documentation: https://pandas.pydata.org/pandas-docs/stable/user_guide/indexing.html#returning-a-view-versus-a-copy\n",
      "  penguins.drop([333], inplace=True)\n"
     ]
    }
   ],
   "source": [
    "penguins.drop([333], inplace=True)"
   ]
  },
  {
   "cell_type": "code",
   "execution_count": 7,
   "metadata": {},
   "outputs": [
    {
     "data": {
      "text/plain": [
       "array(['MALE', 'FEMALE', '.'], dtype=object)"
      ]
     },
     "execution_count": 7,
     "metadata": {},
     "output_type": "execute_result"
    }
   ],
   "source": [
    "penguins['sex'].unique()"
   ]
  },
  {
   "cell_type": "code",
   "execution_count": 8,
   "metadata": {},
   "outputs": [
    {
     "name": "stderr",
     "output_type": "stream",
     "text": [
      "C:\\Users\\uear\\AppData\\Local\\Temp\\ipykernel_16116\\2925984057.py:1: SettingWithCopyWarning: \n",
      "A value is trying to be set on a copy of a slice from a DataFrame.\n",
      "Try using .loc[row_indexer,col_indexer] = value instead\n",
      "\n",
      "See the caveats in the documentation: https://pandas.pydata.org/pandas-docs/stable/user_guide/indexing.html#returning-a-view-versus-a-copy\n",
      "  penguins['species']=penguins['species'].astype('category')\n"
     ]
    }
   ],
   "source": [
    "penguins['species']=penguins['species'].astype('category')"
   ]
  },
  {
   "cell_type": "code",
   "execution_count": 9,
   "metadata": {},
   "outputs": [
    {
     "name": "stderr",
     "output_type": "stream",
     "text": [
      "C:\\Users\\uear\\AppData\\Local\\Temp\\ipykernel_16116\\209572868.py:1: SettingWithCopyWarning: \n",
      "A value is trying to be set on a copy of a slice from a DataFrame.\n",
      "Try using .loc[row_indexer,col_indexer] = value instead\n",
      "\n",
      "See the caveats in the documentation: https://pandas.pydata.org/pandas-docs/stable/user_guide/indexing.html#returning-a-view-versus-a-copy\n",
      "  penguins['species_cod'] = penguins['species'].cat.codes\n"
     ]
    }
   ],
   "source": [
    "penguins['species_cod'] = penguins['species'].cat.codes"
   ]
  },
  {
   "cell_type": "code",
   "execution_count": 10,
   "metadata": {},
   "outputs": [
    {
     "name": "stdout",
     "output_type": "stream",
     "text": [
      "<class 'pandas.core.frame.DataFrame'>\n",
      "RangeIndex: 333 entries, 0 to 332\n",
      "Data columns (total 8 columns):\n",
      " #   Column             Non-Null Count  Dtype   \n",
      "---  ------             --------------  -----   \n",
      " 0   species            333 non-null    category\n",
      " 1   island             333 non-null    object  \n",
      " 2   culmen_length_mm   333 non-null    float64 \n",
      " 3   culmen_depth_mm    333 non-null    float64 \n",
      " 4   flipper_length_mm  333 non-null    float64 \n",
      " 5   body_mass_g        333 non-null    float64 \n",
      " 6   sex                333 non-null    object  \n",
      " 7   species_cod        333 non-null    int8    \n",
      "dtypes: category(1), float64(4), int8(1), object(2)\n",
      "memory usage: 16.5+ KB\n"
     ]
    }
   ],
   "source": [
    "penguins.info()"
   ]
  },
  {
   "cell_type": "code",
   "execution_count": 11,
   "metadata": {},
   "outputs": [],
   "source": [
    "penguins_feats = ['island', 'culmen_length_mm', 'culmen_depth_mm',\n",
    "                  'flipper_length_mm', 'body_mass_g', 'sex']\n",
    "penguins_labs = ['species_cod']\n",
    "X, y = penguins[penguins_feats].values, penguins[penguins_labs].values"
   ]
  },
  {
   "cell_type": "code",
   "execution_count": null,
   "metadata": {},
   "outputs": [],
   "source": []
  },
  {
   "cell_type": "markdown",
   "metadata": {},
   "source": [
    "## SVC를 사용한 학습 및 평가"
   ]
  },
  {
   "cell_type": "code",
   "execution_count": 12,
   "metadata": {},
   "outputs": [],
   "source": [
    "from sklearn.pipeline import Pipeline\n",
    "from sklearn.compose import ColumnTransformer\n",
    "\n",
    "from sklearn.svm import SVC\n",
    "\n",
    "from sklearn.preprocessing import StandardScaler, OneHotEncoder, MinMaxScaler\n",
    "from sklearn.model_selection import train_test_split, StratifiedKFold\n",
    "from sklearn.metrics import accuracy_score, confusion_matrix"
   ]
  },
  {
   "cell_type": "code",
   "execution_count": 13,
   "metadata": {},
   "outputs": [],
   "source": [
    "n_feats = [1, 2, 3, 4]\n",
    "n_tras = Pipeline(steps=[('scaler', StandardScaler())])\n",
    "c_feats = [0, 5] \n",
    "c_tras = Pipeline(steps=[('onehot', OneHotEncoder(handle_unknown='ignore'))])"
   ]
  },
  {
   "cell_type": "code",
   "execution_count": 14,
   "metadata": {},
   "outputs": [],
   "source": [
    "preprocessor = ColumnTransformer(\n",
    "    transformers=[\n",
    "        ('num', n_tras, n_feats),\n",
    "        ('cat', c_tras, c_feats)\n",
    "    ]\n",
    ")"
   ]
  },
  {
   "cell_type": "code",
   "execution_count": 15,
   "metadata": {},
   "outputs": [],
   "source": [
    "pipeline = Pipeline(steps=[('preprocessor', preprocessor),\n",
    "                           ('svc', SVC(probability=True))\n",
    "                           ])"
   ]
  },
  {
   "cell_type": "code",
   "execution_count": 16,
   "metadata": {},
   "outputs": [],
   "source": [
    "SVC_scores = []\n",
    "sVC_fimp = []\n",
    "SVC_predictons = 0\n",
    "FOLDS = 5"
   ]
  },
  {
   "cell_type": "code",
   "execution_count": 17,
   "metadata": {},
   "outputs": [],
   "source": [
    "skf = StratifiedKFold(n_splits=5, shuffle=True, random_state=42)"
   ]
  },
  {
   "cell_type": "code",
   "execution_count": 18,
   "metadata": {},
   "outputs": [
    {
     "name": "stdout",
     "output_type": "stream",
     "text": [
      "Fold = 0, [  0   1   4   5   7   8  11  12  13  14  15  16  17  18  19  20  21  23\n",
      "  24  25  26  27  28  32  33  36  37  38  39  40  41  42  44  45  47  48\n",
      "  52  53  54  56  57  58  59  61  62  63  64  65  66  67  68  69  70  71\n",
      "  72  73  75  76  77  78  79  80  81  83  84  85  86  87  88  89  92  93\n",
      "  96  97  98 100 101 103 104 105 106 107 108 109 110 111 112 113 114 115\n",
      " 116 117 118 119 121 122 123 124 125 126 127 128 129 131 132 133 134 135\n",
      " 136 137 138 139 141 142 144 145 146 147 148 149 150 151 152 153 154 155\n",
      " 156 157 158 159 160 161 162 163 164 165 168 169 171 172 174 175 178 179\n",
      " 181 182 183 185 186 187 188 190 191 193 194 196 198 199 200 201 202 203\n",
      " 204 205 206 208 209 210 211 212 213 215 216 217 218 220 221 223 225 226\n",
      " 227 228 229 230 231 232 233 234 237 238 239 241 242 243 244 246 247 249\n",
      " 250 251 252 253 254 255 256 257 259 260 261 262 263 264 265 266 267 268\n",
      " 269 271 272 273 276 277 278 279 280 281 283 284 286 287 288 289 290 291\n",
      " 292 293 294 295 296 297 298 299 300 303 304 305 306 309 310 311 313 315\n",
      " 316 317 318 319 320 321 322 323 324 328 329 330 331 332]\n",
      "Fold = 1, [  1   2   3   5   6   7   8   9  10  11  12  13  14  16  17  20  21  22\n",
      "  23  25  26  27  28  29  30  31  32  33  34  35  36  37  38  40  41  42\n",
      "  43  44  45  46  48  49  50  51  52  53  55  56  59  60  61  62  63  65\n",
      "  66  68  69  70  71  72  74  75  76  79  81  82  84  85  86  87  88  89\n",
      "  90  91  92  93  94  95  97  98  99 100 101 102 103 106 108 109 110 111\n",
      " 112 113 116 118 119 120 122 124 125 126 127 129 130 132 133 134 135 136\n",
      " 137 138 139 140 141 142 143 144 145 146 147 148 150 151 152 154 156 157\n",
      " 158 160 161 165 166 167 169 170 171 172 173 174 175 176 177 178 180 181\n",
      " 183 184 185 187 188 189 190 191 192 193 195 196 197 198 199 200 202 203\n",
      " 205 206 207 208 209 210 211 212 213 214 215 216 217 218 219 220 222 224\n",
      " 225 227 228 230 231 233 235 236 239 240 241 242 243 244 245 246 248 250\n",
      " 251 253 254 255 256 257 258 259 260 261 262 263 264 265 266 267 270 271\n",
      " 272 274 275 276 278 279 280 281 282 285 286 287 288 289 293 294 295 296\n",
      " 297 298 300 301 302 303 304 305 306 307 308 309 310 311 312 314 315 316\n",
      " 317 318 319 320 322 324 325 326 327 328 329 330 331 332]\n",
      "Fold = 2, [  0   1   2   3   4   5   6   9  10  11  12  14  15  17  18  19  20  21\n",
      "  22  24  25  27  28  29  30  31  32  33  34  35  36  39  40  41  42  43\n",
      "  44  45  46  47  48  49  50  51  54  55  56  57  58  60  63  64  65  66\n",
      "  67  69  73  74  75  76  77  78  80  81  82  83  85  87  88  89  90  91\n",
      "  92  93  94  95  96  98  99 100 101 102 103 104 105 106 107 108 110 112\n",
      " 113 114 115 116 117 118 119 120 121 123 124 127 128 129 130 131 132 133\n",
      " 134 135 138 139 140 142 143 144 145 146 147 149 150 151 153 154 155 157\n",
      " 159 160 161 162 163 164 165 166 167 168 170 171 173 174 175 176 177 178\n",
      " 179 180 182 183 184 185 186 187 188 189 190 191 192 194 195 196 197 200\n",
      " 201 202 204 207 209 210 211 212 213 214 215 216 219 220 221 222 223 224\n",
      " 225 226 228 229 230 231 232 233 234 235 236 237 238 240 241 242 243 245\n",
      " 247 248 249 250 251 252 254 255 256 257 258 259 261 262 263 264 265 267\n",
      " 268 269 270 271 272 273 274 275 277 278 279 281 282 283 284 285 288 289\n",
      " 290 291 292 295 296 298 299 300 301 302 303 304 306 307 308 309 310 312\n",
      " 313 314 316 319 321 322 323 325 326 327 328 329 330 331]\n",
      "Fold = 3, [  0   2   3   4   5   6   7   8   9  10  12  13  14  15  16  17  18  19\n",
      "  21  22  23  24  26  29  30  31  32  33  34  35  36  37  38  39  40  41\n",
      "  43  44  45  46  47  49  50  51  52  53  54  55  57  58  59  60  61  62\n",
      "  64  66  67  68  70  71  72  73  74  75  77  78  79  80  81  82  83  84\n",
      "  85  86  87  88  90  91  93  94  95  96  97  98  99 102 103 104 105 107\n",
      " 109 110 111 112 114 115 117 120 121 122 123 124 125 126 127 128 129 130\n",
      " 131 132 136 137 138 139 140 141 143 146 148 149 151 152 153 154 155 156\n",
      " 158 159 160 162 163 164 165 166 167 168 169 170 171 172 173 176 177 178\n",
      " 179 180 181 182 184 185 186 189 190 191 192 193 194 195 196 197 198 199\n",
      " 201 203 204 205 206 207 208 209 211 214 216 217 218 219 220 221 222 223\n",
      " 224 225 226 227 228 229 231 232 233 234 235 236 237 238 239 240 242 243\n",
      " 244 245 246 247 248 249 252 253 256 257 258 259 260 262 265 266 268 269\n",
      " 270 271 272 273 274 275 276 277 279 280 282 283 284 285 286 287 289 290\n",
      " 291 292 293 294 297 298 299 301 302 304 305 307 308 310 311 312 313 314\n",
      " 315 317 318 319 320 321 323 324 325 326 327 328 329 330 332]\n",
      "Fold = 4, [  0   1   2   3   4   6   7   8   9  10  11  13  15  16  18  19  20  22\n",
      "  23  24  25  26  27  28  29  30  31  34  35  37  38  39  42  43  46  47\n",
      "  48  49  50  51  52  53  54  55  56  57  58  59  60  61  62  63  64  65\n",
      "  67  68  69  70  71  72  73  74  76  77  78  79  80  82  83  84  86  89\n",
      "  90  91  92  94  95  96  97  99 100 101 102 104 105 106 107 108 109 111\n",
      " 113 114 115 116 117 118 119 120 121 122 123 125 126 128 130 131 133 134\n",
      " 135 136 137 140 141 142 143 144 145 147 148 149 150 152 153 155 156 157\n",
      " 158 159 161 162 163 164 166 167 168 169 170 172 173 174 175 176 177 179\n",
      " 180 181 182 183 184 186 187 188 189 192 193 194 195 197 198 199 200 201\n",
      " 202 203 204 205 206 207 208 210 212 213 214 215 217 218 219 221 222 223\n",
      " 224 226 227 229 230 232 234 235 236 237 238 239 240 241 244 245 246 247\n",
      " 248 249 250 251 252 253 254 255 258 260 261 263 264 266 267 268 269 270\n",
      " 273 274 275 276 277 278 280 281 282 283 284 285 286 287 288 290 291 292\n",
      " 293 294 295 296 297 299 300 301 302 303 305 306 307 308 309 311 312 313\n",
      " 314 315 316 317 318 320 321 322 323 324 325 326 327 331 332]\n"
     ]
    },
    {
     "name": "stderr",
     "output_type": "stream",
     "text": [
      "c:\\Users\\uear\\AppData\\Local\\Programs\\Python\\Python39\\lib\\site-packages\\sklearn\\utils\\validation.py:1300: DataConversionWarning: A column-vector y was passed when a 1d array was expected. Please change the shape of y to (n_samples, ), for example using ravel().\n",
      "  y = column_or_1d(y, warn=True)\n",
      "c:\\Users\\uear\\AppData\\Local\\Programs\\Python\\Python39\\lib\\site-packages\\sklearn\\utils\\validation.py:1300: DataConversionWarning: A column-vector y was passed when a 1d array was expected. Please change the shape of y to (n_samples, ), for example using ravel().\n",
      "  y = column_or_1d(y, warn=True)\n",
      "c:\\Users\\uear\\AppData\\Local\\Programs\\Python\\Python39\\lib\\site-packages\\sklearn\\utils\\validation.py:1300: DataConversionWarning: A column-vector y was passed when a 1d array was expected. Please change the shape of y to (n_samples, ), for example using ravel().\n",
      "  y = column_or_1d(y, warn=True)\n",
      "c:\\Users\\uear\\AppData\\Local\\Programs\\Python\\Python39\\lib\\site-packages\\sklearn\\utils\\validation.py:1300: DataConversionWarning: A column-vector y was passed when a 1d array was expected. Please change the shape of y to (n_samples, ), for example using ravel().\n",
      "  y = column_or_1d(y, warn=True)\n",
      "c:\\Users\\uear\\AppData\\Local\\Programs\\Python\\Python39\\lib\\site-packages\\sklearn\\utils\\validation.py:1300: DataConversionWarning: A column-vector y was passed when a 1d array was expected. Please change the shape of y to (n_samples, ), for example using ravel().\n",
      "  y = column_or_1d(y, warn=True)\n"
     ]
    }
   ],
   "source": [
    "for fold, (train_idx, valid_idx) in enumerate(skf.split(penguins[penguins_feats].values,\n",
    "                                                        penguins[penguins_labs].values)):\n",
    "    print(f\"Fold = {fold}, {train_idx}\")\n",
    "\n",
    "    X_train, X_test, y_train, y_test = train_test_split(X, y, test_size=0.2, random_state=42)\n",
    "    X_val_train, X_val, y_val_train, y_val = train_test_split(X_train, y_train, test_size=0.25, random_state=42)\n",
    "    \n",
    "    multi_model = pipeline.fit(X_val_train, y_val_train)\n",
    "    preds_valid = multi_model.predict(X_val)\n",
    "    acc = accuracy_score(y_val, preds_valid)\n",
    "    SVC_scores.append(acc)\n",
    "\n",
    "    # test_preds =  multi_model.predict(X_test)\n",
    "    # SVC_predictons += test_preds/FOLDS"
   ]
  },
  {
   "cell_type": "code",
   "execution_count": 19,
   "metadata": {},
   "outputs": [
    {
     "data": {
      "text/plain": [
       "0.9850746268656716"
      ]
     },
     "execution_count": 19,
     "metadata": {},
     "output_type": "execute_result"
    }
   ],
   "source": [
    "np.mean(SVC_scores)"
   ]
  },
  {
   "cell_type": "code",
   "execution_count": 20,
   "metadata": {},
   "outputs": [
    {
     "data": {
      "text/plain": [
       "array([[32,  0,  0],\n",
       "       [ 1, 13,  0],\n",
       "       [ 0,  0, 21]], dtype=int64)"
      ]
     },
     "execution_count": 20,
     "metadata": {},
     "output_type": "execute_result"
    }
   ],
   "source": [
    "confusion_matrix(y_val, preds_valid)"
   ]
  }
 ],
 "metadata": {
  "kernelspec": {
   "display_name": "Python 3",
   "language": "python",
   "name": "python3"
  },
  "language_info": {
   "codemirror_mode": {
    "name": "ipython",
    "version": 3
   },
   "file_extension": ".py",
   "mimetype": "text/x-python",
   "name": "python",
   "nbconvert_exporter": "python",
   "pygments_lexer": "ipython3",
   "version": "3.9.13"
  }
 },
 "nbformat": 4,
 "nbformat_minor": 2
}
