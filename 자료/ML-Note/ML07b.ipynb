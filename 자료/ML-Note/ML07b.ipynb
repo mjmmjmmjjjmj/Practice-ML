{
 "cells": [
  {
   "cell_type": "markdown",
   "metadata": {},
   "source": [
    "# KoNLPy를 사용한 영화 리뷰 분석"
   ]
  },
  {
   "cell_type": "code",
   "execution_count": null,
   "metadata": {},
   "outputs": [],
   "source": [
    "from preamble import *\n",
    "%config InlineBackend.figure_format='retina'\n",
    "\n",
    "import konlpy\n",
    "konlpy.__version__"
   ]
  },
  {
   "cell_type": "code",
   "execution_count": null,
   "metadata": {},
   "outputs": [],
   "source": [
    "df_train = pd.read_csv(\"data/ratings_train.txt\", delimiter=\"\\t\", keep_default_na=False)\n",
    "\n",
    "df_train.head()"
   ]
  },
  {
   "cell_type": "code",
   "execution_count": null,
   "metadata": {},
   "outputs": [],
   "source": [
    "text_train, y_train = df_train[\"document\"].values, df_train[\"label\"].values"
   ]
  },
  {
   "cell_type": "markdown",
   "metadata": {},
   "source": [
    "같은 방식으로 테스트 데이터를 읽습니다."
   ]
  },
  {
   "cell_type": "code",
   "execution_count": null,
   "metadata": {},
   "outputs": [],
   "source": [
    "df_test = pd.read_csv(\"data/ratings_test.txt\", delimiter=\"\\t\", keep_default_na=False)\n",
    "text_test = df_test[\"document\"].values\n",
    "y_test = df_test[\"label\"].values"
   ]
  },
  {
   "cell_type": "markdown",
   "metadata": {},
   "source": [
    "훈련 데이터와 테스트 데이터의 크기를 확인합니다."
   ]
  },
  {
   "cell_type": "code",
   "execution_count": null,
   "metadata": {},
   "outputs": [],
   "source": [
    "len(text_train), np.bincount(y_train)"
   ]
  },
  {
   "cell_type": "code",
   "execution_count": null,
   "metadata": {},
   "outputs": [],
   "source": [
    "len(text_test), np.bincount(y_test)"
   ]
  },
  {
   "cell_type": "markdown",
   "metadata": {},
   "source": [
    "#### Okt"
   ]
  },
  {
   "cell_type": "code",
   "execution_count": null,
   "metadata": {},
   "outputs": [],
   "source": [
    "from konlpy.tag import Okt\n",
    "\n",
    "\n",
    "class PicklableOkt(Okt):\n",
    "\n",
    "    def __init__(self, *args):\n",
    "        self.args = args\n",
    "        Okt.__init__(self, *args)\n",
    "\n",
    "    def __setstate__(self, state):\n",
    "        self.__init__(*state[\"args\"])\n",
    "\n",
    "    def __getstate__(self):\n",
    "        return {\"args\": self.args}\n",
    "\n",
    "\n",
    "okt = PicklableOkt()"
   ]
  },
  {
   "cell_type": "code",
   "execution_count": null,
   "metadata": {},
   "outputs": [],
   "source": [
    "from sklearn.feature_extraction.text import TfidfVectorizer\n",
    "from sklearn.linear_model import LogisticRegression\n",
    "from sklearn.pipeline import make_pipeline\n",
    "from sklearn.model_selection import GridSearchCV\n",
    "\n",
    "param_grid = {\n",
    "    \"tfidfvectorizer__min_df\": [3, 5, 7],\n",
    "    \"tfidfvectorizer__ngram_range\": [(1, 1), (1, 2), (1, 3)],\n",
    "    \"logisticregression__C\": [0.1, 1, 10],\n",
    "}\n",
    "pipe = make_pipeline(TfidfVectorizer(tokenizer=okt.morphs), LogisticRegression())\n",
    "grid = GridSearchCV(pipe, param_grid, n_jobs=-1)\n",
    "\n",
    "# 그리드 서치를 수행합니다\n",
    "grid.fit(text_train[:1000], y_train[:1000])\n",
    "print(\"최상의 크로스 밸리데이션 점수: {:.3f}\".format(grid.best_score_))\n",
    "print(\"최적의 크로스 밸리데이션 파라미터: \", grid.best_params_)"
   ]
  },
  {
   "cell_type": "code",
   "execution_count": null,
   "metadata": {},
   "outputs": [],
   "source": [
    "tfidfvectorizer = grid.best_estimator_.named_steps[\"tfidfvectorizer\"]\n",
    "X_test = tfidfvectorizer.transform(text_test[:1000])\n",
    "logisticregression = grid.best_estimator_.named_steps[\"logisticregression\"]\n",
    "score = logisticregression.score(X_test, y_test[:1000])\n",
    "\n",
    "print(\"테스트 세트 점수: {:.3f}\".format(score))"
   ]
  }
 ],
 "metadata": {
  "colab": {
   "provenance": []
  },
  "environment": {
   "kernel": "python3",
   "name": "common-cpu.m102",
   "type": "gcloud",
   "uri": "gcr.io/deeplearning-platform-release/base-cpu:m102"
  },
  "kernelspec": {
   "display_name": "Python 3",
   "language": "python",
   "name": "python3"
  },
  "language_info": {
   "codemirror_mode": {
    "name": "ipython",
    "version": 3
   },
   "file_extension": ".py",
   "mimetype": "text/x-python",
   "name": "python",
   "nbconvert_exporter": "python",
   "pygments_lexer": "ipython3"
  }
 },
 "nbformat": 4,
 "nbformat_minor": 0
}
